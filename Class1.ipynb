{
 "cells": [
  {
   "cell_type": "code",
   "execution_count": 1,
   "metadata": {},
   "outputs": [],
   "source": [
    "import nasdaqdatalink as ndl"
   ]
  },
  {
   "cell_type": "code",
   "execution_count": 3,
   "metadata": {},
   "outputs": [
    {
     "data": {
      "text/plain": [
       "0.10245181858251584"
      ]
     },
     "execution_count": 3,
     "metadata": {},
     "output_type": "execute_result"
    }
   ],
   "source": [
    "#Function to calculate an european put option\n",
    "\n",
    "def put_option(S, K, r, sigma, T):\n",
    "    from scipy.stats import norm\n",
    "    from math import log, sqrt, exp\n",
    "    d1 = (log(S/K) + (r + 0.5 * sigma ** 2) * T) / (sigma * sqrt(T))\n",
    "    d2 = (log(S/K) + (r - 0.5 * sigma ** 2) * T) / (sigma * sqrt(T))\n",
    "    return K * exp(-r * T) * norm.cdf(-d2) - S * norm.cdf(-d1)\n",
    "\n",
    "put_option(92, 88, 0.042, 0.1315, 0.063)"
   ]
  },
  {
   "cell_type": "code",
   "execution_count": 4,
   "metadata": {},
   "outputs": [
    {
     "data": {
      "text/plain": [
       "4.33499203220596"
      ]
     },
     "execution_count": 4,
     "metadata": {},
     "output_type": "execute_result"
    }
   ],
   "source": [
    "# Function to calculate an european call option\n",
    "\n",
    "def call_option(S, K, r, sigma, T):\n",
    "    from scipy.stats import norm\n",
    "    from math import log, sqrt, exp\n",
    "    d1 = (log(S/K) + (r + 0.5 * sigma ** 2) * T) / (sigma * sqrt(T))\n",
    "    d2 = (log(S/K) + (r - 0.5 * sigma ** 2) * T) / (sigma * sqrt(T))\n",
    "    return S * norm.cdf(d1) - K * exp(-r * T) * norm.cdf(d2)\n",
    "\n",
    "call_option(92, 88, 0.042, 0.1315, 0.063)"
   ]
  },
  {
   "cell_type": "code",
   "execution_count": null,
   "metadata": {},
   "outputs": [],
   "source": []
  }
 ],
 "metadata": {
  "kernelspec": {
   "display_name": "base",
   "language": "python",
   "name": "python3"
  },
  "language_info": {
   "codemirror_mode": {
    "name": "ipython",
    "version": 3
   },
   "file_extension": ".py",
   "mimetype": "text/x-python",
   "name": "python",
   "nbconvert_exporter": "python",
   "pygments_lexer": "ipython3",
   "version": "3.9.12"
  },
  "orig_nbformat": 4,
  "vscode": {
   "interpreter": {
    "hash": "8fc775f3573869615e4e37bd2dac2a6c5573cd63196ddfc6c147b8dbb354a48e"
   }
  }
 },
 "nbformat": 4,
 "nbformat_minor": 2
}
