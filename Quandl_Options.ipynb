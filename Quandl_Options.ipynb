{
 "cells": [
  {
   "cell_type": "markdown",
   "metadata": {},
   "source": [
    "# Quandl And Futures Options"
   ]
  },
  {
   "cell_type": "code",
   "execution_count": 1,
   "metadata": {
    "collapsed": false
   },
   "outputs": [],
   "source": [
    "%matplotlib inline"
   ]
  },
  {
   "cell_type": "code",
   "execution_count": 2,
   "metadata": {
    "collapsed": false
   },
   "outputs": [],
   "source": [
    "import matplotlib.pyplot as plt\n",
    "import pandas as pd\n",
    "import numpy as np\n",
    "import scipy as sp\n",
    "import quandl\n",
    "import functools\n",
    "import seaborn as sns\n"
   ]
  },
  {
   "cell_type": "markdown",
   "metadata": {},
   "source": [
    "\n",
    "We are likely to run this notebook over and over, so we add memoizaiton to the data loading function. This makes testing and re-running our code far faster, and even lets us work offline.  Note that if we change the code inside our function, we may get unexpectedly stale results out of the cache!"
   ]
  },
  {
   "cell_type": "code",
   "execution_count": 3,
   "metadata": {
    "collapsed": false
   },
   "outputs": [],
   "source": [
    "@functools.lru_cache(maxsize=1600)\n",
    "def fetch_quandl(my_data_items, trim_start=None, trim_end=None):\n",
    "    qdata = quandl.get(list(my_data_items), returns=\"pandas\", \n",
    "                      trim_start=trim_start, trim_end=trim_end,\n",
    "                      api_key=BrianBoonstraPrivateKeys['Quandl'])\n",
    "    return qdata"
   ]
  },
  {
   "cell_type": "code",
   "execution_count": 4,
   "metadata": {
    "collapsed": false
   },
   "outputs": [],
   "source": [
    "emini_contracts = 'OWF/CME_ES_ES_X2014_IVM'"
   ]
  },
  {
   "cell_type": "code",
   "execution_count": 5,
   "metadata": {
    "collapsed": false
   },
   "outputs": [],
   "source": [
    "def clean_quandl_columns(dataframe):\n",
    "    replacement_columns = {}\n",
    "    for c in dataframe.columns:\n",
    "        series_name, variable = c.split(' - ')\n",
    "        source_name, asset = series_name.split('/')\n",
    "        replacement_columns[c] = variable\n",
    "    renamed_data = dataframe.rename(columns=replacement_columns)\n",
    "    return renamed_data"
   ]
  },
  {
   "cell_type": "code",
   "execution_count": 6,
   "metadata": {
    "collapsed": false
   },
   "outputs": [],
   "source": [
    "es_option_data = clean_quandl_columns(fetch_quandl((emini_contracts,),\n",
    "                                                   trim_start=\"2014-10-01\", \n",
    "                                                   trim_end=\"2014-10-31\")\n",
    "                                     )"
   ]
  },
  {
   "cell_type": "code",
   "execution_count": 7,
   "metadata": {
    "collapsed": false
   },
   "outputs": [
    {
     "data": {
      "text/plain": [
       "Future      1940.800000\n",
       "AtM            0.148062\n",
       "RR25          -0.060531\n",
       "RR10          -0.115090\n",
       "Fly25          0.003127\n",
       "Fly10          0.015248\n",
       "Beta1         -0.840082\n",
       "Beta2         -1.490824\n",
       "Beta3         14.031784\n",
       "Beta4        314.503509\n",
       "Beta5       1916.009974\n",
       "Beta6       3868.545066\n",
       "MinMoney      -0.199366\n",
       "MaxMoney       0.071669\n",
       "DtE           51.000000\n",
       "DtT           79.000000\n",
       "Name: 2014-10-01 00:00:00, dtype: float64"
      ]
     },
     "execution_count": 7,
     "metadata": {},
     "output_type": "execute_result"
    }
   ],
   "source": [
    "es_option_data.iloc[0]"
   ]
  },
  {
   "cell_type": "code",
   "execution_count": 14,
   "metadata": {
    "collapsed": false
   },
   "outputs": [
    {
     "data": {
      "text/html": [
       "<div>\n",
       "<table border=\"1\" class=\"dataframe\">\n",
       "  <thead>\n",
       "    <tr style=\"text-align: right;\">\n",
       "      <th></th>\n",
       "      <th>DtT</th>\n",
       "      <th>DtE</th>\n",
       "      <th>MaxMoney</th>\n",
       "      <th>MinMoney</th>\n",
       "      <th>Beta6</th>\n",
       "      <th>Beta5</th>\n",
       "      <th>Beta4</th>\n",
       "      <th>Beta3</th>\n",
       "      <th>Beta2</th>\n",
       "      <th>Beta1</th>\n",
       "      <th>Fly10</th>\n",
       "      <th>Fly25</th>\n",
       "      <th>RR10</th>\n",
       "      <th>RR25</th>\n",
       "      <th>AtM</th>\n",
       "      <th>Future</th>\n",
       "    </tr>\n",
       "    <tr>\n",
       "      <th>Date</th>\n",
       "      <th></th>\n",
       "      <th></th>\n",
       "      <th></th>\n",
       "      <th></th>\n",
       "      <th></th>\n",
       "      <th></th>\n",
       "      <th></th>\n",
       "      <th></th>\n",
       "      <th></th>\n",
       "      <th></th>\n",
       "      <th></th>\n",
       "      <th></th>\n",
       "      <th></th>\n",
       "      <th></th>\n",
       "      <th></th>\n",
       "      <th></th>\n",
       "    </tr>\n",
       "  </thead>\n",
       "  <tbody>\n",
       "    <tr>\n",
       "      <th>2014-10-01</th>\n",
       "      <td>79.0</td>\n",
       "      <td>51.0</td>\n",
       "      <td>0.071669</td>\n",
       "      <td>-0.199366</td>\n",
       "      <td>3868.545066</td>\n",
       "      <td>1916.009974</td>\n",
       "      <td>314.503509</td>\n",
       "      <td>14.031784</td>\n",
       "      <td>-1.490824</td>\n",
       "      <td>-0.840082</td>\n",
       "      <td>0.015248</td>\n",
       "      <td>0.003127</td>\n",
       "      <td>-0.115090</td>\n",
       "      <td>-0.060531</td>\n",
       "      <td>0.148062</td>\n",
       "      <td>1940.8</td>\n",
       "    </tr>\n",
       "    <tr>\n",
       "      <th>2014-10-02</th>\n",
       "      <td>78.0</td>\n",
       "      <td>50.0</td>\n",
       "      <td>0.070402</td>\n",
       "      <td>-0.191962</td>\n",
       "      <td>5886.276284</td>\n",
       "      <td>2652.342734</td>\n",
       "      <td>386.061630</td>\n",
       "      <td>13.533725</td>\n",
       "      <td>-1.577831</td>\n",
       "      <td>-0.815366</td>\n",
       "      <td>0.014360</td>\n",
       "      <td>0.002756</td>\n",
       "      <td>-0.107791</td>\n",
       "      <td>-0.056233</td>\n",
       "      <td>0.142854</td>\n",
       "      <td>1938.6</td>\n",
       "    </tr>\n",
       "    <tr>\n",
       "      <th>2014-10-03</th>\n",
       "      <td>77.0</td>\n",
       "      <td>49.0</td>\n",
       "      <td>0.061671</td>\n",
       "      <td>-0.172322</td>\n",
       "      <td>7192.740693</td>\n",
       "      <td>3466.762303</td>\n",
       "      <td>553.561776</td>\n",
       "      <td>23.579962</td>\n",
       "      <td>-1.881750</td>\n",
       "      <td>-0.845787</td>\n",
       "      <td>0.012711</td>\n",
       "      <td>0.002622</td>\n",
       "      <td>-0.098670</td>\n",
       "      <td>-0.052449</td>\n",
       "      <td>0.130725</td>\n",
       "      <td>1960.3</td>\n",
       "    </tr>\n",
       "    <tr>\n",
       "      <th>2014-10-29</th>\n",
       "      <td>51.0</td>\n",
       "      <td>23.0</td>\n",
       "      <td>0.050811</td>\n",
       "      <td>-0.119534</td>\n",
       "      <td>62521.663885</td>\n",
       "      <td>18617.779525</td>\n",
       "      <td>1881.222489</td>\n",
       "      <td>68.808967</td>\n",
       "      <td>-0.407017</td>\n",
       "      <td>-1.076650</td>\n",
       "      <td>0.015920</td>\n",
       "      <td>0.003588</td>\n",
       "      <td>-0.092584</td>\n",
       "      <td>-0.047319</td>\n",
       "      <td>0.131450</td>\n",
       "      <td>1972.2</td>\n",
       "    </tr>\n",
       "    <tr>\n",
       "      <th>2014-10-30</th>\n",
       "      <td>50.0</td>\n",
       "      <td>22.0</td>\n",
       "      <td>0.049733</td>\n",
       "      <td>-0.116451</td>\n",
       "      <td>-6790.819555</td>\n",
       "      <td>4474.002299</td>\n",
       "      <td>1431.359164</td>\n",
       "      <td>118.411261</td>\n",
       "      <td>2.307366</td>\n",
       "      <td>-1.068422</td>\n",
       "      <td>0.016459</td>\n",
       "      <td>0.004276</td>\n",
       "      <td>-0.085519</td>\n",
       "      <td>-0.044523</td>\n",
       "      <td>0.127087</td>\n",
       "      <td>1988.6</td>\n",
       "    </tr>\n",
       "    <tr>\n",
       "      <th>2014-10-31</th>\n",
       "      <td>49.0</td>\n",
       "      <td>21.0</td>\n",
       "      <td>0.050224</td>\n",
       "      <td>-0.108270</td>\n",
       "      <td>-10629.874508</td>\n",
       "      <td>5085.933217</td>\n",
       "      <td>1506.250593</td>\n",
       "      <td>111.790780</td>\n",
       "      <td>3.293582</td>\n",
       "      <td>-0.916532</td>\n",
       "      <td>0.014891</td>\n",
       "      <td>0.003589</td>\n",
       "      <td>-0.070865</td>\n",
       "      <td>-0.036375</td>\n",
       "      <td>0.123652</td>\n",
       "      <td>2011.4</td>\n",
       "    </tr>\n",
       "  </tbody>\n",
       "</table>\n",
       "</div>"
      ],
      "text/plain": [
       "             DtT   DtE  MaxMoney  MinMoney         Beta6         Beta5  \\\n",
       "Date                                                                     \n",
       "2014-10-01  79.0  51.0  0.071669 -0.199366   3868.545066   1916.009974   \n",
       "2014-10-02  78.0  50.0  0.070402 -0.191962   5886.276284   2652.342734   \n",
       "2014-10-03  77.0  49.0  0.061671 -0.172322   7192.740693   3466.762303   \n",
       "2014-10-29  51.0  23.0  0.050811 -0.119534  62521.663885  18617.779525   \n",
       "2014-10-30  50.0  22.0  0.049733 -0.116451  -6790.819555   4474.002299   \n",
       "2014-10-31  49.0  21.0  0.050224 -0.108270 -10629.874508   5085.933217   \n",
       "\n",
       "                  Beta4       Beta3     Beta2     Beta1     Fly10     Fly25  \\\n",
       "Date                                                                          \n",
       "2014-10-01   314.503509   14.031784 -1.490824 -0.840082  0.015248  0.003127   \n",
       "2014-10-02   386.061630   13.533725 -1.577831 -0.815366  0.014360  0.002756   \n",
       "2014-10-03   553.561776   23.579962 -1.881750 -0.845787  0.012711  0.002622   \n",
       "2014-10-29  1881.222489   68.808967 -0.407017 -1.076650  0.015920  0.003588   \n",
       "2014-10-30  1431.359164  118.411261  2.307366 -1.068422  0.016459  0.004276   \n",
       "2014-10-31  1506.250593  111.790780  3.293582 -0.916532  0.014891  0.003589   \n",
       "\n",
       "                RR10      RR25       AtM  Future  \n",
       "Date                                              \n",
       "2014-10-01 -0.115090 -0.060531  0.148062  1940.8  \n",
       "2014-10-02 -0.107791 -0.056233  0.142854  1938.6  \n",
       "2014-10-03 -0.098670 -0.052449  0.130725  1960.3  \n",
       "2014-10-29 -0.092584 -0.047319  0.131450  1972.2  \n",
       "2014-10-30 -0.085519 -0.044523  0.127087  1988.6  \n",
       "2014-10-31 -0.070865 -0.036375  0.123652  2011.4  "
      ]
     },
     "execution_count": 14,
     "metadata": {},
     "output_type": "execute_result"
    }
   ],
   "source": [
    "ends = pd.concat((es_option_data.head(3),es_option_data.tail(3)))\n",
    "ends[ends.columns[::-1]]"
   ]
  },
  {
   "cell_type": "markdown",
   "metadata": {},
   "source": [
    "### The OptionWorks Volatility Parameterization"
   ]
  },
  {
   "cell_type": "markdown",
   "metadata": {},
   "source": [
    "OptionWork parameterizes volatility as a funciton of moneyness with a degree 6 polynomial.  This is unstable outside the fitted range."
   ]
  },
  {
   "cell_type": "code",
   "execution_count": 15,
   "metadata": {
    "collapsed": false
   },
   "outputs": [],
   "source": [
    "def vols(r):\n",
    "    moneyness = pd.Series(np.linspace(start=r.MinMoney, stop=r.MaxMoney, num=100))\n",
    "    vola = r.AtM + (r.Beta1*moneyness + r.Beta2*moneyness**2 + r.Beta3*moneyness**3\n",
    "                     + r.Beta4*moneyness**4 + r.Beta5*moneyness**5 + r.Beta6*moneyness**6)\n",
    "    vola.name=\"ImplVol\"\n",
    "    future = r.Future * np.exp(moneyness)\n",
    "    return pd.DataFrame({\"Dec Emini Future\": future, \"Moneyness\": moneyness, \"ImplVol\": vola})\n"
   ]
  },
  {
   "cell_type": "markdown",
   "metadata": {},
   "source": [
    "We see a typical skew."
   ]
  },
  {
   "cell_type": "code",
   "execution_count": 16,
   "metadata": {
    "collapsed": false
   },
   "outputs": [
    {
     "data": {
      "image/png": "[encoded data removed]",
      "text/plain": [
       "<matplotlib.figure.Figure at 0x112478c18>"
      ]
     },
     "metadata": {},
     "output_type": "display_data"
    }
   ],
   "source": [
    "v = vols(es_option_data.iloc[0])\n",
    "ax = v.plot(x=\"Dec Emini Future\", y=\"ImplVol\", legend=False)\n",
    "_ = ax.set_ylabel(\"Implied Vol\")"
   ]
  },
  {
   "cell_type": "code",
   "execution_count": null,
   "metadata": {
    "collapsed": true
   },
   "outputs": [],
   "source": []
  }
 ],
 "metadata": {
  "kernelspec": {
   "display_name": "Python 3",
   "language": "python",
   "name": "python3"
  },
  "language_info": {
   "codemirror_mode": {
    "name": "ipython",
    "version": 3
   },
   "file_extension": ".py",
   "mimetype": "text/x-python",
   "name": "python",
   "nbconvert_exporter": "python",
   "pygments_lexer": "ipython3",
   "version": "3.9.6 (default, Oct 18 2022, 12:41:40) \n[Clang 14.0.0 (clang-1400.0.29.202)]"
  },
  "vscode": {
   "interpreter": {
    "hash": "31f2aee4e71d21fbe5cf8b01ff0e069b9275f58929596ceb00d14d90e3e16cd6"
   }
  }
 },
 "nbformat": 4,
 "nbformat_minor": 0
}
