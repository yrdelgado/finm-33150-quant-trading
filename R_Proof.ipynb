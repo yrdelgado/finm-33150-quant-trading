{
 "cells": [
  {
   "cell_type": "code",
   "execution_count": 1,
   "metadata": {
    "vscode": {
     "languageId": "r"
    }
   },
   "outputs": [
    {
     "data": {
      "text/html": [
       "<style>\n",
       ".dl-inline {width: auto; margin:0; padding: 0}\n",
       ".dl-inline>dt, .dl-inline>dd {float: none; width: auto; display: inline-block}\n",
       ".dl-inline>dt::after {content: \":\\0020\"; padding-right: .5ex}\n",
       ".dl-inline>dt:not(:first-of-type) {padding-left: .5ex}\n",
       "</style><dl class=dl-inline><dt>Monday</dt><dd>TRUE</dd><dt>Tuesday</dt><dd>FALSE</dd><dt>Wednesday</dt><dd>TRUE</dd><dt>Thursday</dt><dd>FALSE</dd><dt>Friday</dt><dd>TRUE</dd></dl>\n"
      ],
      "text/latex": [
       "\\begin{description*}\n",
       "\\item[Monday] TRUE\n",
       "\\item[Tuesday] FALSE\n",
       "\\item[Wednesday] TRUE\n",
       "\\item[Thursday] FALSE\n",
       "\\item[Friday] TRUE\n",
       "\\end{description*}\n"
      ],
      "text/markdown": [
       "Monday\n",
       ":   TRUETuesday\n",
       ":   FALSEWednesday\n",
       ":   TRUEThursday\n",
       ":   FALSEFriday\n",
       ":   TRUE\n",
       "\n"
      ],
      "text/plain": [
       "   Monday   Tuesday Wednesday  Thursday    Friday \n",
       "     TRUE     FALSE      TRUE     FALSE      TRUE "
      ]
     },
     "metadata": {},
     "output_type": "display_data"
    }
   ],
   "source": [
    "# Poker and roulette winnings from Monday to Friday:\n",
    "poker_vector <- c(140, -50, 20, -120, 240)\n",
    "roulette_vector <- c(-24, -50, 100, -350, 10)\n",
    "days_vector <- c(\"Monday\", \"Tuesday\", \"Wednesday\", \"Thursday\", \"Friday\")\n",
    "names(poker_vector) <- days_vector\n",
    "names(roulette_vector) <- days_vector\n",
    "\n",
    "# Define a new variable based on a selection\n",
    "poker_midweek <- poker_vector[c(2,3,4)]\n",
    "\n",
    "# Define a new variable based on a selection\n",
    "roulette_selection_vector <- roulette_vector[2:5]\n",
    "\n",
    "# Poker and roulette winnings from Monday to Friday:\n",
    "poker_vector <- c(140, -50, 20, -120, 240)\n",
    "roulette_vector <- c(-24, -50, 100, -350, 10)\n",
    "days_vector <- c(\"Monday\", \"Tuesday\", \"Wednesday\", \"Thursday\", \"Friday\")\n",
    "names(poker_vector) <- days_vector\n",
    "names(roulette_vector) <- days_vector\n",
    "\n",
    "\n",
    "# Which days did you make money on poker?\n",
    "selection_vector <- poker_vector > 0\n",
    "\n",
    "# Print out selection_vector\n",
    "selection_vector"
   ]
  }
 ],
 "metadata": {
  "kernelspec": {
   "display_name": "R",
   "language": "R",
   "name": "ir"
  },
  "language_info": {
   "codemirror_mode": "r",
   "file_extension": ".r",
   "mimetype": "text/x-r-source",
   "name": "R",
   "pygments_lexer": "r",
   "version": "4.2.2"
  },
  "orig_nbformat": 4,
  "vscode": {
   "interpreter": {
    "hash": "8fc775f3573869615e4e37bd2dac2a6c5573cd63196ddfc6c147b8dbb354a48e"
   }
  }
 },
 "nbformat": 4,
 "nbformat_minor": 2
}
